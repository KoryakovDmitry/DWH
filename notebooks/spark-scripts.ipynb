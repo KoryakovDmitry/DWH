{
 "cells": [
  {
   "cell_type": "code",
   "execution_count": 3,
   "id": "b95d8403-88e9-432f-9370-9c5463578c6f",
   "metadata": {},
   "outputs": [],
   "source": [
    "from pyspark.sql.functions import current_timestamp"
   ]
  },
  {
   "cell_type": "code",
   "execution_count": 1,
   "id": "889a2dfb-43a3-4979-b121-642cb145c690",
   "metadata": {},
   "outputs": [
    {
     "data": {
      "text/html": [
       "\n",
       "            <div>\n",
       "                <p><b>SparkSession - in-memory</b></p>\n",
       "                \n",
       "        <div>\n",
       "            <p><b>SparkContext</b></p>\n",
       "\n",
       "            <p><a href=\"http://61da45ef1d51:4040\">Spark UI</a></p>\n",
       "\n",
       "            <dl>\n",
       "              <dt>Version</dt>\n",
       "                <dd><code>v3.5.0</code></dd>\n",
       "              <dt>Master</dt>\n",
       "                <dd><code>spark://spark-master:7077</code></dd>\n",
       "              <dt>AppName</dt>\n",
       "                <dd><code>JupyterSparkCluster</code></dd>\n",
       "            </dl>\n",
       "        </div>\n",
       "        \n",
       "            </div>\n",
       "        "
      ],
      "text/plain": [
       "<pyspark.sql.session.SparkSession at 0xf17032df3390>"
      ]
     },
     "execution_count": 1,
     "metadata": {},
     "output_type": "execute_result"
    }
   ],
   "source": [
    "from pyspark.sql import SparkSession\n",
    "\n",
    "# Инициализируем Spark Session с добавлением PostgreSQL JDBC драйвера\n",
    "spark = SparkSession.builder \\\n",
    "    .master(\"spark://spark-master:7077\") \\\n",
    "    .appName(\"JupyterSparkCluster\") \\\n",
    "    .config(\"spark.jars.packages\", \"org.postgresql:postgresql:42.5.4\") \\\n",
    "    .getOrCreate()\n",
    "spark"
   ]
  },
  {
   "cell_type": "code",
   "execution_count": 5,
   "id": "43590efa-56e6-4a71-b617-7a25619425e7",
   "metadata": {},
   "outputs": [],
   "source": [
    "# Параметры подключения к PostgreSQL\n",
    "jdbc_url = \"jdbc:postgresql://postgres:5432/postgres\"\n",
    "connection_properties = {\n",
    "    \"user\": \"postgres\",\n",
    "    \"password\": \"postgres\",\n",
    "    \"driver\": \"org.postgresql.Driver\"\n",
    "}\n"
   ]
  },
  {
   "cell_type": "code",
   "execution_count": 6,
   "id": "2478ab1f-65ae-4880-acef-5751a3ffd087",
   "metadata": {},
   "outputs": [],
   "source": [
    "# Чтение данных из source3.craft_market_craftsmans\n",
    "df_craftsmans = spark.read.jdbc(\n",
    "    url=jdbc_url,\n",
    "    table=\"source3.craft_market_craftsmans\",\n",
    "    properties=connection_properties\n",
    ")"
   ]
  },
  {
   "cell_type": "code",
   "execution_count": 7,
   "id": "967f14a0-4b5c-4b0e-95f6-5778fb5cbc26",
   "metadata": {},
   "outputs": [
    {
     "data": {
      "text/plain": [
       "[Row(craftsman_id=1, craftsman_name='Griffith MacVay', craftsman_address='3370 Laurel Point', craftsman_birthday=datetime.date(1994, 2, 15), craftsman_email='drickwood1@soundcloud.com'),\n",
       " Row(craftsman_id=2, craftsman_name='Deeyn Jaggs', craftsman_address='85 Stone Corner Center', craftsman_birthday=datetime.date(1996, 12, 26), craftsman_email='clanghorn2@cnbc.com'),\n",
       " Row(craftsman_id=3, craftsman_name='Shawn Alentyev', craftsman_address='36752 Lyons Terrace', craftsman_birthday=datetime.date(1993, 1, 18), craftsman_email='lmcdougall3@trellian.com'),\n",
       " Row(craftsman_id=4, craftsman_name='Jorrie Brigginshaw', craftsman_address='5693 Boyd Junction', craftsman_birthday=datetime.date(2001, 12, 28), craftsman_email='dfettes4@youtube.com'),\n",
       " Row(craftsman_id=5, craftsman_name='Fae Winscomb', craftsman_address='2705 Elgar Trail', craftsman_birthday=datetime.date(2004, 7, 15), craftsman_email='vlapree5@360.cn')]"
      ]
     },
     "execution_count": 7,
     "metadata": {},
     "output_type": "execute_result"
    }
   ],
   "source": [
    "df_craftsmans.head(5)"
   ]
  },
  {
   "cell_type": "code",
   "execution_count": 13,
   "id": "446a562b-e734-423e-a8a8-10d53b9e160f",
   "metadata": {},
   "outputs": [],
   "source": [
    "# Удаление столбца 'craftsman_id'\n",
    "df_craftsmans = df_craftsmans.drop(\"craftsman_id\")"
   ]
  },
  {
   "cell_type": "code",
   "execution_count": 14,
   "id": "365cca90-e695-4ab4-955b-5b5b5868cc29",
   "metadata": {},
   "outputs": [
    {
     "data": {
      "text/plain": [
       "[Row(craftsman_name='Griffith MacVay', craftsman_address='3370 Laurel Point', craftsman_birthday=datetime.date(1994, 2, 15), craftsman_email='drickwood1@soundcloud.com', load_dttm=datetime.datetime(2024, 12, 26, 3, 20, 18, 486212)),\n",
       " Row(craftsman_name='Deeyn Jaggs', craftsman_address='85 Stone Corner Center', craftsman_birthday=datetime.date(1996, 12, 26), craftsman_email='clanghorn2@cnbc.com', load_dttm=datetime.datetime(2024, 12, 26, 3, 20, 18, 486212)),\n",
       " Row(craftsman_name='Shawn Alentyev', craftsman_address='36752 Lyons Terrace', craftsman_birthday=datetime.date(1993, 1, 18), craftsman_email='lmcdougall3@trellian.com', load_dttm=datetime.datetime(2024, 12, 26, 3, 20, 18, 486212)),\n",
       " Row(craftsman_name='Jorrie Brigginshaw', craftsman_address='5693 Boyd Junction', craftsman_birthday=datetime.date(2001, 12, 28), craftsman_email='dfettes4@youtube.com', load_dttm=datetime.datetime(2024, 12, 26, 3, 20, 18, 486212)),\n",
       " Row(craftsman_name='Fae Winscomb', craftsman_address='2705 Elgar Trail', craftsman_birthday=datetime.date(2004, 7, 15), craftsman_email='vlapree5@360.cn', load_dttm=datetime.datetime(2024, 12, 26, 3, 20, 18, 486212))]"
      ]
     },
     "execution_count": 14,
     "metadata": {},
     "output_type": "execute_result"
    }
   ],
   "source": [
    "df_craftsmans.head(5)"
   ]
  },
  {
   "cell_type": "code",
   "execution_count": 15,
   "id": "36fe9305-b037-4de0-bdfc-7111951bb20a",
   "metadata": {},
   "outputs": [
    {
     "name": "stdout",
     "output_type": "stream",
     "text": [
      "Таблица dwh.d_craftsmans успешно загружена.\n"
     ]
    }
   ],
   "source": [
    "# Добавление колонки с временем загрузки\n",
    "df_craftsmans = df_craftsmans.withColumn(\"load_dttm\", current_timestamp())\n",
    "\n",
    "# Запись данных в dwh.d_craftsmans (режим перезаписи)\n",
    "df_craftsmans.write.jdbc(\n",
    "    url=jdbc_url,\n",
    "    table=\"dwh.d_craftsmans\",\n",
    "    mode=\"append\",\n",
    "    properties=connection_properties\n",
    ")\n",
    "\n",
    "print(\"Таблица dwh.d_craftsmans успешно загружена.\")"
   ]
  },
  {
   "cell_type": "code",
   "execution_count": null,
   "id": "2aed554e-28fa-4a7c-a68e-dcf83c9df713",
   "metadata": {},
   "outputs": [],
   "source": []
  }
 ],
 "metadata": {
  "kernelspec": {
   "display_name": "Python 3 (ipykernel)",
   "language": "python",
   "name": "python3"
  },
  "language_info": {
   "codemirror_mode": {
    "name": "ipython",
    "version": 3
   },
   "file_extension": ".py",
   "mimetype": "text/x-python",
   "name": "python",
   "nbconvert_exporter": "python",
   "pygments_lexer": "ipython3",
   "version": "3.11.6"
  }
 },
 "nbformat": 4,
 "nbformat_minor": 5
}
