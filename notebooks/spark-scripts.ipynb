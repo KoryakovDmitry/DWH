{
 "cells": [
  {
   "cell_type": "code",
   "execution_count": 1,
   "id": "b95d8403-88e9-432f-9370-9c5463578c6f",
   "metadata": {},
   "outputs": [],
   "source": [
    "from pyspark.sql.functions import current_timestamp"
   ]
  },
  {
   "cell_type": "code",
   "execution_count": 2,
   "id": "889a2dfb-43a3-4979-b121-642cb145c690",
   "metadata": {},
   "outputs": [
    {
     "data": {
      "text/html": [
       "\n",
       "            <div>\n",
       "                <p><b>SparkSession - in-memory</b></p>\n",
       "                \n",
       "        <div>\n",
       "            <p><b>SparkContext</b></p>\n",
       "\n",
       "            <p><a href=\"http://b49692f8233c:4040\">Spark UI</a></p>\n",
       "\n",
       "            <dl>\n",
       "              <dt>Version</dt>\n",
       "                <dd><code>v3.5.0</code></dd>\n",
       "              <dt>Master</dt>\n",
       "                <dd><code>spark://spark-master:7077</code></dd>\n",
       "              <dt>AppName</dt>\n",
       "                <dd><code>JupyterSparkCluster</code></dd>\n",
       "            </dl>\n",
       "        </div>\n",
       "        \n",
       "            </div>\n",
       "        "
      ],
      "text/plain": [
       "<pyspark.sql.session.SparkSession at 0xe3db00de6150>"
      ]
     },
     "execution_count": 2,
     "metadata": {},
     "output_type": "execute_result"
    }
   ],
   "source": [
    "from pyspark.sql import SparkSession\n",
    "\n",
    "# Инициализируем Spark Session с добавлением PostgreSQL JDBC драйвера\n",
    "spark = SparkSession.builder \\\n",
    "    .master(\"spark://spark-master:7077\") \\\n",
    "    .appName(\"JupyterSparkCluster\") \\\n",
    "    .config(\"spark.jars.packages\", \"org.postgresql:postgresql:42.5.4\") \\\n",
    "    .getOrCreate()\n",
    "spark"
   ]
  },
  {
   "cell_type": "code",
   "execution_count": 3,
   "id": "43590efa-56e6-4a71-b617-7a25619425e7",
   "metadata": {},
   "outputs": [],
   "source": [
    "# Параметры подключения к PostgreSQL\n",
    "jdbc_url = \"jdbc:postgresql://postgres:5432/postgres\"\n",
    "connection_properties = {\n",
    "    \"user\": \"postgres\",\n",
    "    \"password\": \"postgres\",\n",
    "    \"driver\": \"org.postgresql.Driver\"\n",
    "}\n"
   ]
  },
  {
   "cell_type": "code",
   "execution_count": 4,
   "id": "5149f11b-133b-46d7-a652-fc6212034764",
   "metadata": {},
   "outputs": [],
   "source": [
    "def load_table(spark, jdbc_url, connection_properties, source_table, target_table, selected_columns, mode='append'):\n",
    "    \"\"\"\n",
    "    Загружает данные из исходной таблицы в целевую таблицу DWH с выборкой необходимых колонок.\n",
    "\n",
    "    :param spark: Объект SparkSession.\n",
    "    :param jdbc_url: JDBC URL для подключения к PostgreSQL.\n",
    "    :param connection_properties: Словарь с параметрами подключения (user, password, driver).\n",
    "    :param source_table: Имя исходной таблицы (схема.таблица).\n",
    "    :param target_table: Имя целевой таблицы в DWH (схема.таблица).\n",
    "    :param selected_columns: Список колонок для выборки из исходной таблицы.\n",
    "    :param mode: Режим записи ('overwrite' или 'append'). По умолчанию 'append'.\n",
    "    \"\"\"\n",
    "\n",
    "    # Чтение данных из исходной таблицы\n",
    "    df = spark.read.jdbc(\n",
    "        url=jdbc_url,\n",
    "        table=source_table,\n",
    "        properties=connection_properties\n",
    "    )\n",
    "    \n",
    "    # Выбор необходимых колонок\n",
    "    df_selected = df.select(*selected_columns)\n",
    "    \n",
    "    # Добавление колонки с временем загрузки\n",
    "    df_selected = df_selected.withColumn(\"load_dttm\", current_timestamp())\n",
    "    \n",
    "    # Запись данных в целевую таблицу\n",
    "    df_selected.write.jdbc(\n",
    "        url=jdbc_url,\n",
    "        table=target_table,\n",
    "        mode=mode,\n",
    "        properties=connection_properties\n",
    "    )\n",
    "    \n",
    "    print(f\"Таблица {target_table} успешно загружена.\")\n",
    "    return df_selected\n",
    "        "
   ]
  },
  {
   "cell_type": "code",
   "execution_count": 5,
   "id": "2478ab1f-65ae-4880-acef-5751a3ffd087",
   "metadata": {},
   "outputs": [
    {
     "name": "stdout",
     "output_type": "stream",
     "text": [
      "Таблица dwh.d_craftsmans успешно загружена.\n"
     ]
    }
   ],
   "source": [
    "# Параметры для загрузки dwh.d_craftsmans\n",
    "source_table_craftsmans = \"source3.craft_market_craftsmans\"\n",
    "target_table_craftsmans = \"dwh.d_craftsmans\"\n",
    "selected_columns_craftsmans = [\n",
    "    # \"craftsman_id\",\n",
    "    \"craftsman_name\",\n",
    "    \"craftsman_address\",\n",
    "    \"craftsman_birthday\",\n",
    "    \"craftsman_email\"\n",
    "]\n",
    "\n",
    "# Вызов функции для загрузки dwh.d_craftsmans\n",
    "dwh_d_craftsmans = load_table(\n",
    "    spark=spark,\n",
    "    jdbc_url=jdbc_url,\n",
    "    connection_properties=connection_properties,\n",
    "    source_table=source_table_craftsmans,\n",
    "    target_table=target_table_craftsmans,\n",
    "    selected_columns=selected_columns_craftsmans,\n",
    "    mode='append'\n",
    ")"
   ]
  },
  {
   "cell_type": "code",
   "execution_count": 6,
   "id": "2aed554e-28fa-4a7c-a68e-dcf83c9df713",
   "metadata": {},
   "outputs": [
    {
     "name": "stdout",
     "output_type": "stream",
     "text": [
      "Таблица dwh.d_customers успешно загружена.\n"
     ]
    }
   ],
   "source": [
    "# Параметры для загрузки dwh.d_customers\n",
    "source_table_customers = \"source3.craft_market_customers\"\n",
    "target_table_customers = \"dwh.d_customers\"\n",
    "selected_columns_customers = [\n",
    "    # \"customer_id\",\n",
    "    \"customer_name\",\n",
    "    \"customer_address\",\n",
    "    \"customer_birthday\",\n",
    "    \"customer_email\"\n",
    "]\n",
    "\n",
    "# Вызов функции для загрузки dwh.d_customers\n",
    "dwh_d_customers = load_table(\n",
    "    spark=spark,\n",
    "    jdbc_url=jdbc_url,\n",
    "    connection_properties=connection_properties,\n",
    "    source_table=source_table_customers,\n",
    "    target_table=target_table_customers,\n",
    "    selected_columns=selected_columns_customers,\n",
    "    mode='append'\n",
    ")"
   ]
  },
  {
   "cell_type": "code",
   "execution_count": 7,
   "id": "2d4504ac-b0c9-4c6a-9f26-f420cc1cc692",
   "metadata": {},
   "outputs": [
    {
     "data": {
      "text/plain": [
       "[Row(customer_name='Anna-maria Lamba', customer_address='8 Prairieview Alley', customer_birthday=datetime.date(1990, 7, 27), customer_email='alamba1@ted.com', load_dttm=datetime.datetime(2024, 12, 26, 4, 5, 13, 700602)),\n",
       " Row(customer_name='Kim Coonihan', customer_address='3 Hanson Center', customer_birthday=datetime.date(1992, 5, 26), customer_email='kcoonihan2@angelfire.com', load_dttm=datetime.datetime(2024, 12, 26, 4, 5, 13, 700602)),\n",
       " Row(customer_name='Lanny Vasse', customer_address='9 Westridge Alley', customer_birthday=datetime.date(2003, 6, 12), customer_email='lvasse3@pbs.org', load_dttm=datetime.datetime(2024, 12, 26, 4, 5, 13, 700602)),\n",
       " Row(customer_name='Alice Treneman', customer_address='68462 Meadow Valley Drive', customer_birthday=datetime.date(1995, 7, 26), customer_email='atreneman4@cmu.edu', load_dttm=datetime.datetime(2024, 12, 26, 4, 5, 13, 700602)),\n",
       " Row(customer_name='Flo Morant', customer_address='2453 Crescent Oaks Avenue', customer_birthday=datetime.date(1997, 10, 31), customer_email='fmorant5@shinystat.com', load_dttm=datetime.datetime(2024, 12, 26, 4, 5, 13, 700602))]"
      ]
     },
     "execution_count": 7,
     "metadata": {},
     "output_type": "execute_result"
    }
   ],
   "source": [
    "dwh_d_customers.head(5)"
   ]
  },
  {
   "cell_type": "code",
   "execution_count": 8,
   "id": "82eca057-6aef-4ce6-9504-f1e4eaa99f18",
   "metadata": {},
   "outputs": [
    {
     "name": "stdout",
     "output_type": "stream",
     "text": [
      "Таблица dwh.d_products успешно загружена.\n"
     ]
    }
   ],
   "source": [
    "# Параметры для загрузки dwh.d_products\n",
    "source_table_products = \"source2.craft_market_masters_products\"  # Предполагается, что products находятся здесь\n",
    "target_table_products = \"dwh.d_products\"\n",
    "selected_columns_products = [\n",
    "    # \"product_id\",\n",
    "    \"product_name\",\n",
    "    \"product_description\",\n",
    "    \"product_type\",\n",
    "    \"product_price\"\n",
    "]\n",
    "\n",
    "# Вызов функции для загрузки dwh.d_products\n",
    "dwh_d_products = load_table(\n",
    "    spark=spark,\n",
    "    jdbc_url=jdbc_url,\n",
    "    connection_properties=connection_properties,\n",
    "    source_table=source_table_products,\n",
    "    target_table=target_table_products,\n",
    "    selected_columns=selected_columns_products,\n",
    "    mode='append'\n",
    ")"
   ]
  },
  {
   "cell_type": "code",
   "execution_count": 9,
   "id": "acf67021-4cc6-49ab-9a19-15e366330bdc",
   "metadata": {},
   "outputs": [
    {
     "name": "stdout",
     "output_type": "stream",
     "text": [
      "Таблица dwh.f_orders успешно загружена.\n"
     ]
    }
   ],
   "source": [
    "source_table_orders = \"source1.craft_market_wide\"\n",
    "target_table_orders = \"dwh.f_orders\"\n",
    "selected_columns_orders = [\n",
    "    \"order_created_date\",\n",
    "    \"order_completion_date\",\n",
    "    \"order_status\",\n",
    "    \"customer_id\",\n",
    "    \"craftsman_id\",\n",
    "    \"product_id\",\n",
    "    \"order_id\",\n",
    "]\n",
    "\n",
    "# Вызов функции для загрузки dwh.f_orders\n",
    "dwh_f_orders = load_table(\n",
    "    spark=spark,\n",
    "    jdbc_url=jdbc_url,\n",
    "    connection_properties=connection_properties,\n",
    "    source_table=source_table_orders,\n",
    "    target_table=target_table_orders,\n",
    "    selected_columns=selected_columns_orders,\n",
    "    mode='append'  # Используем 'append' для добавления данных\n",
    ")"
   ]
  },
  {
   "cell_type": "code",
   "execution_count": null,
   "id": "78412350-ca78-41ee-9ecd-f354ffecde70",
   "metadata": {},
   "outputs": [],
   "source": []
  }
 ],
 "metadata": {
  "kernelspec": {
   "display_name": "Python 3 (ipykernel)",
   "language": "python",
   "name": "python3"
  },
  "language_info": {
   "codemirror_mode": {
    "name": "ipython",
    "version": 3
   },
   "file_extension": ".py",
   "mimetype": "text/x-python",
   "name": "python",
   "nbconvert_exporter": "python",
   "pygments_lexer": "ipython3",
   "version": "3.11.6"
  }
 },
 "nbformat": 4,
 "nbformat_minor": 5
}
